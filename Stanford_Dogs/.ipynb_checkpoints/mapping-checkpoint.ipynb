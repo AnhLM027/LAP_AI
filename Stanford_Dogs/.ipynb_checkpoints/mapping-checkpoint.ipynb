{
 "cells": [
  {
   "cell_type": "code",
   "execution_count": 4,
   "id": "c0fa28b3-f9c7-4b90-b752-659d3bdd2a4a",
   "metadata": {},
   "outputs": [
    {
     "name": "stdout",
     "output_type": "stream",
     "text": [
      "✅ Đã tạo file class_indices.json thành công!\n"
     ]
    }
   ],
   "source": [
    "import os\n",
    "import json\n",
    "\n",
    "# Đường dẫn đến thư mục gốc chứa các thư mục giống chó\n",
    "root_dir = './data/train'  # 🔁 thay đường dẫn thật của anh vào đây\n",
    "\n",
    "# Lấy danh sách các thư mục (giống chó), sắp xếp để giữ thứ tự ổn định\n",
    "folders = sorted(os.listdir(root_dir))\n",
    "\n",
    "# Tạo ánh xạ: chỉ số -> tên lớp\n",
    "class_indices = {}\n",
    "\n",
    "for idx, folder in enumerate(folders):\n",
    "    if '-' in folder:\n",
    "        class_name = folder.split('-', 1)[1]  # Lấy phần sau dấu '-'\n",
    "    else:\n",
    "        class_name = folder  # Phòng trường hợp không có dấu '-'\n",
    "    class_indices[idx] = class_name\n",
    "\n",
    "# Ghi file JSON\n",
    "with open('class_indices.json', 'w', encoding='utf-8') as f:\n",
    "    json.dump(class_indices, f, ensure_ascii=False, indent=4)\n",
    "\n",
    "print(\"✅ Đã tạo file class_indices.json thành công!\")\n"
   ]
  },
  {
   "cell_type": "code",
   "execution_count": null,
   "id": "a020065d-249c-4d7b-9ad7-75ba28c1ce7b",
   "metadata": {},
   "outputs": [],
   "source": []
  }
 ],
 "metadata": {
  "kernelspec": {
   "display_name": "Python [conda env:base] *",
   "language": "python",
   "name": "conda-base-py"
  },
  "language_info": {
   "codemirror_mode": {
    "name": "ipython",
    "version": 3
   },
   "file_extension": ".py",
   "mimetype": "text/x-python",
   "name": "python",
   "nbconvert_exporter": "python",
   "pygments_lexer": "ipython3",
   "version": "3.12.7"
  }
 },
 "nbformat": 4,
 "nbformat_minor": 5
}
